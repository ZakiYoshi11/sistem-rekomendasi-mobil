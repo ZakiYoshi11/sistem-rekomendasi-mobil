{
 "cells": [
  {
   "cell_type": "markdown",
   "metadata": {},
   "source": [
    "# Training moden dengan tidak menggunakan spark"
   ]
  },
  {
   "cell_type": "code",
   "execution_count": 1,
   "metadata": {},
   "outputs": [],
   "source": [
    "from Util.prep_data import process_slang, prep\n",
    "from sklearn.feature_extraction.text import TfidfVectorizer\n",
    "import pandas as pd\n",
    "import json\n",
    "from sklearn.model_selection import train_test_split\n",
    "from sklearn.linear_model import LogisticRegression\n",
    "from sklearn.metrics import classification_report, accuracy_score"
   ]
  },
  {
   "cell_type": "code",
   "execution_count": 2,
   "metadata": {},
   "outputs": [],
   "source": [
    "#  import data cahtbo json\n",
    "with open('./Cache/chatbot.json', 'r', encoding='utf-8') as f:\n",
    "    data = json.load(f)\n",
    "\n",
    "# Import data chatbot yang telah di preprocessing\n",
    "df_chatbot = pd.read_csv('Data/prep-data-chatbot.csv')"
   ]
  },
  {
   "cell_type": "code",
   "execution_count": 3,
   "metadata": {},
   "outputs": [],
   "source": [
    "# membuat tf-idf vectorizer\n",
    "vectorizer = TfidfVectorizer(min_df=1) \n",
    "\n",
    "# Convert the list strings in 'prep' column to proper strings\n",
    "df_chatbot['prep_text'] = df_chatbot['prep'].apply(lambda x: ' '.join(eval(x)) if isinstance(x, str) else ' '.join(x))\n",
    "\n",
    "# fit dan transform data prep dari df_chatbot untuk membuat tf-idf matrix\n",
    "tfidf_matrix = vectorizer.fit_transform(df_chatbot['prep_text'])\n",
    "\n",
    "# mengambil nama-nama fitur (kata-kata) yang digunakan\n",
    "feature_names = vectorizer.get_feature_names_out()\n",
    "\n",
    "# membuat dataframe dari tf-idf matrix untuk visualisasi\n",
    "tfidf_df = pd.DataFrame(tfidf_matrix.toarray(), columns=feature_names)\n",
    "tfidf_df['tag'] = df_chatbot['tag']"
   ]
  },
  {
   "cell_type": "code",
   "execution_count": 4,
   "metadata": {},
   "outputs": [],
   "source": [
    "# # Simpan model TfidfVectorizer dan matrix\n",
    "# import pickle\n",
    "\n",
    "# # Simpan vectorizer\n",
    "# with open('Util/tfidf_vectorizer.pkl', 'wb') as f:\n",
    "#    pickle.dump(vectorizer, f)\n",
    "\n",
    "# # Simpan tfidf matrix \n",
    "# with open('Util/tfidf_matrix.pkl', 'wb') as f:\n",
    "#    pickle.dump(tfidf_matrix, f)"
   ]
  },
  {
   "cell_type": "code",
   "execution_count": 5,
   "metadata": {},
   "outputs": [],
   "source": [
    "# Extract features (X) and labels (y)\n",
    "X = tfidf_matrix\n",
    "y = df_chatbot['tag']\n",
    "\n",
    "# Split the data into training and testing sets\n",
    "X_train, X_test, y_train, y_test = train_test_split(X, y, test_size=0.3, random_state=30)"
   ]
  },
  {
   "cell_type": "code",
   "execution_count": 6,
   "metadata": {},
   "outputs": [
    {
     "name": "stdout",
     "output_type": "stream",
     "text": [
      "\n",
      "Akurasi Logistic Regression: 0.9835390946502057\n",
      "\n",
      "Laporan Klasifikasi Logistic Regression:\n",
      "                      precision    recall  f1-score   support\n",
      "\n",
      "           about_car       0.97      0.98      0.98        62\n",
      "       about_chatbot       1.00      0.97      0.99        34\n",
      "  car_recommendation       0.95      0.97      0.96        39\n",
      "             goodbye       1.00      1.00      1.00        26\n",
      "info_manual_otomatic       1.00      1.00      1.00        44\n",
      "       rekomen_mobil       1.00      0.97      0.99        38\n",
      "\n",
      "            accuracy                           0.98       243\n",
      "           macro avg       0.99      0.98      0.98       243\n",
      "        weighted avg       0.98      0.98      0.98       243\n",
      "\n"
     ]
    }
   ],
   "source": [
    "# Inisialisasi model Logistic Regression\n",
    "lr_model = LogisticRegression()\n",
    "\n",
    "# Melatih model menggunakan data training\n",
    "lr_model.fit(X_train, y_train)\n",
    "\n",
    "# Prediksi menggunakan data testing\n",
    "y_pred_lr = lr_model.predict(X_test)\n",
    "\n",
    "# Menghitung dan menampilkan akurasi model\n",
    "accuracy_lr = accuracy_score(y_test, y_pred_lr)\n",
    "print(\"\\nAkurasi Logistic Regression:\", accuracy_lr)\n",
    "\n",
    "# Menampilkan laporan klasifikasi detail\n",
    "print(\"\\nLaporan Klasifikasi Logistic Regression:\")\n",
    "print(classification_report(y_test, y_pred_lr))"
   ]
  },
  {
   "cell_type": "code",
   "execution_count": 7,
   "metadata": {},
   "outputs": [],
   "source": [
    "# ujicoba model dengan inputan baru\n",
    "def get_response(text):\n",
    "    # melakukan preprocessing terhadap data inputan baru\n",
    "    text_slang = process_slang(text)\n",
    "    text_prep = prep(text_slang)\n",
    "    \n",
    "    # melakukan vectorizer terhadap data inputan baru menggunakan Tf-Idf\n",
    "    text_vector = vectorizer.transform([' '.join(text_prep)])\n",
    "    \n",
    "    # mengambil prediksi dan probabilitas dari model\n",
    "    pred = lr_model.predict(text_vector)\n",
    "    pred_class = pred[0] \n",
    "    probs = lr_model.predict_proba(text_vector)[0]\n",
    "    max_prob = max(probs)\n",
    "    \n",
    "    # respon jika probabilitas diatas 0.8\n",
    "    prob_predict = \"Probabilitas prediksi: \" + str(max_prob)\n",
    "    # batas probabilitas\n",
    "    if max_prob >= 0.8:\n",
    "        for intent in data['intents']:\n",
    "            if intent['tag'] == pred_class:\n",
    "                responses = intent['responses']\n",
    "                output = responses[0]\n",
    "                print(prob_predict)\n",
    "                return output\n",
    "    else:\n",
    "        # respon jika probabilitas dibawah 0.8\n",
    "        print(prob_predict)\n",
    "        output = \"maksud anda tidak saya mengerti, bisa dijelaskan lebih detail?\"\n",
    "\n",
    "    return output\n"
   ]
  },
  {
   "cell_type": "code",
   "execution_count": 8,
   "metadata": {},
   "outputs": [
    {
     "name": "stdout",
     "output_type": "stream",
     "text": [
      "Probabilitas prediksi: 0.8879394117429875\n",
      "jawaban: Haai sobat CarBot, kamu mau rekomendasi mobil?. Aku bakal ngasih kamu 10 rekomendasi mobil nih, tapi sebelumnya kamu jawab pertanyaan ini ya: \n",
      "1. Jenis mobil apa yang kamu mau? \n",
      "2. Berapa kilometer pemakaian mobil yang kamu inginkan? \n",
      "3. Terakhir berapa range harga yang kamu mau? \n",
      " untuk aturan penginputan seperti berikut ya “#rekomendasi Honda 5000 500000000”. Untuk pertanyaat dijawab secara berurutan ya sobat.\n"
     ]
    }
   ],
   "source": [
    "test_text = \"rekomendasi mobil\"\n",
    "response = get_response(test_text)\n",
    "print(\"jawaban:\",response)"
   ]
  },
  {
   "cell_type": "code",
   "execution_count": 9,
   "metadata": {},
   "outputs": [
    {
     "data": {
      "text/plain": [
       "['Util/lr_nonspark.joblib']"
      ]
     },
     "execution_count": 9,
     "metadata": {},
     "output_type": "execute_result"
    }
   ],
   "source": [
    "# from joblib import dump\n",
    "# dump(lr_model, 'Util/lr_nonspark.joblib')"
   ]
  },
  {
   "cell_type": "code",
   "execution_count": null,
   "metadata": {},
   "outputs": [],
   "source": []
  }
 ],
 "metadata": {
  "kernelspec": {
   "display_name": "env-all",
   "language": "python",
   "name": "python3"
  },
  "language_info": {
   "codemirror_mode": {
    "name": "ipython",
    "version": 3
   },
   "file_extension": ".py",
   "mimetype": "text/x-python",
   "name": "python",
   "nbconvert_exporter": "python",
   "pygments_lexer": "ipython3",
   "version": "3.11.9"
  }
 },
 "nbformat": 4,
 "nbformat_minor": 2
}
