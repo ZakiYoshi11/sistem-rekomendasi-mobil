{
 "cells": [
  {
   "cell_type": "markdown",
   "metadata": {},
   "source": [
    "# Training model logistic regression dengan menggunakan spark"
   ]
  },
  {
   "cell_type": "code",
   "execution_count": 1,
   "metadata": {},
   "outputs": [],
   "source": [
    "from pyspark.sql import SparkSession\n",
    "\n",
    "from pyspark.sql.functions import split, regexp_replace, col, when, count, abs\n",
    "from pyspark.ml.feature import HashingTF, IDF, Tokenizer\n",
    "from pyspark.ml.feature import StringIndexer\n",
    "from pyspark.ml import Pipeline\n",
    "from pyspark.ml.classification import LogisticRegression"
   ]
  },
  {
   "cell_type": "code",
   "execution_count": 2,
   "metadata": {},
   "outputs": [],
   "source": [
    "# membuat spark session\n",
    "spark = SparkSession.builder \\\n",
    "\t.appName(\"Rekomendasi Mobil\") \\\n",
    "\t.config(\"spark.app.Chatbot\", \"Chatbot.Rekomendasi Mobil\") \\\n",
    "\t.getOrCreate()"
   ]
  },
  {
   "cell_type": "code",
   "execution_count": 3,
   "metadata": {},
   "outputs": [],
   "source": [
    "df_chatbot_spark = spark.read.csv(\"Data/prep-data-chatbot.csv\", header=True, inferSchema=True)"
   ]
  },
  {
   "cell_type": "code",
   "execution_count": 4,
   "metadata": {},
   "outputs": [],
   "source": [
    "# Create pipeline stages\n",
    "tokenizer = Tokenizer(inputCol=\"prep\", outputCol=\"words\")\n",
    "hashingTF = HashingTF(inputCol=\"words\", outputCol=\"rawFeatures\", numFeatures=1000)\n",
    "idf = IDF(inputCol=\"rawFeatures\", outputCol=\"features\")\n",
    "\n",
    "# Create StringIndexer for the tag column\n",
    "label_indexer = StringIndexer(inputCol=\"tag\", outputCol=\"label\")\n",
    "\n",
    "# Create the pipeline\n",
    "pipeline = Pipeline(stages=[tokenizer, hashingTF, idf, label_indexer])\n",
    "\n",
    "# Prepare the data by selecting only prep and tag columns\n",
    "data = df_chatbot_spark.select(\"prep\", \"tag\")\n",
    "\n",
    "# Split data into training and testing sets\n",
    "train_data, test_data = data.randomSplit([0.8, 0.2], seed=42)\n",
    "\n",
    "# Fit the pipeline on training data\n",
    "pipeline_model = pipeline.fit(train_data)\n",
    "\n",
    "# Transform both training and testing data\n",
    "train_df = pipeline_model.transform(train_data)\n",
    "test_df = pipeline_model.transform(test_data)"
   ]
  },
  {
   "cell_type": "code",
   "execution_count": 5,
   "metadata": {},
   "outputs": [],
   "source": [
    "#Model pertama menggunakan Logistic Regression\n",
    "log_reg = LogisticRegression(maxIter=100)\n",
    "log_reg_Model = log_reg.fit(train_df)\n",
    "predictions = log_reg_Model.transform(test_df)"
   ]
  },
  {
   "cell_type": "code",
   "execution_count": 6,
   "metadata": {},
   "outputs": [
    {
     "ename": "NameError",
     "evalue": "name 'MulticlassClassificationEvaluator' is not defined",
     "output_type": "error",
     "traceback": [
      "\u001b[1;31m---------------------------------------------------------------------------\u001b[0m",
      "\u001b[1;31mNameError\u001b[0m                                 Traceback (most recent call last)",
      "Cell \u001b[1;32mIn[6], line 2\u001b[0m\n\u001b[0;32m      1\u001b[0m \u001b[38;5;66;03m# Calculate accuracy\u001b[39;00m\n\u001b[1;32m----> 2\u001b[0m evaluator_accuracy \u001b[38;5;241m=\u001b[39m \u001b[43mMulticlassClassificationEvaluator\u001b[49m(\n\u001b[0;32m      3\u001b[0m \tlabelCol\u001b[38;5;241m=\u001b[39m\u001b[38;5;124m\"\u001b[39m\u001b[38;5;124mlabel\u001b[39m\u001b[38;5;124m\"\u001b[39m, \n\u001b[0;32m      4\u001b[0m \tpredictionCol\u001b[38;5;241m=\u001b[39m\u001b[38;5;124m\"\u001b[39m\u001b[38;5;124mprediction\u001b[39m\u001b[38;5;124m\"\u001b[39m, \n\u001b[0;32m      5\u001b[0m \tmetricName\u001b[38;5;241m=\u001b[39m\u001b[38;5;124m\"\u001b[39m\u001b[38;5;124maccuracy\u001b[39m\u001b[38;5;124m\"\u001b[39m\n\u001b[0;32m      6\u001b[0m )\n\u001b[0;32m      8\u001b[0m \u001b[38;5;66;03m# Calculate f1 score\u001b[39;00m\n\u001b[0;32m      9\u001b[0m evaluator_f1 \u001b[38;5;241m=\u001b[39m MulticlassClassificationEvaluator(\n\u001b[0;32m     10\u001b[0m \tlabelCol\u001b[38;5;241m=\u001b[39m\u001b[38;5;124m\"\u001b[39m\u001b[38;5;124mlabel\u001b[39m\u001b[38;5;124m\"\u001b[39m, \n\u001b[0;32m     11\u001b[0m \tpredictionCol\u001b[38;5;241m=\u001b[39m\u001b[38;5;124m\"\u001b[39m\u001b[38;5;124mprediction\u001b[39m\u001b[38;5;124m\"\u001b[39m, \n\u001b[0;32m     12\u001b[0m \tmetricName\u001b[38;5;241m=\u001b[39m\u001b[38;5;124m\"\u001b[39m\u001b[38;5;124mf1\u001b[39m\u001b[38;5;124m\"\u001b[39m\n\u001b[0;32m     13\u001b[0m )\n",
      "\u001b[1;31mNameError\u001b[0m: name 'MulticlassClassificationEvaluator' is not defined"
     ]
    }
   ],
   "source": [
    "# Calculate accuracy\n",
    "evaluator_accuracy = MulticlassClassificationEvaluator(\n",
    "\tlabelCol=\"label\", \n",
    "\tpredictionCol=\"prediction\", \n",
    "\tmetricName=\"accuracy\"\n",
    ")\n",
    "\n",
    "# Calculate f1 score\n",
    "evaluator_f1 = MulticlassClassificationEvaluator(\n",
    "\tlabelCol=\"label\", \n",
    "\tpredictionCol=\"prediction\", \n",
    "\tmetricName=\"f1\"\n",
    ")\n",
    "\n",
    "accuracy = evaluator_accuracy.evaluate(predictions)\n",
    "f1_score = evaluator_f1.evaluate(predictions)\n",
    "\n",
    "print(\"Accuracy Score: {0:.4f}\".format(accuracy))\n",
    "print(\"F1 Score: {0:.4f}\".format(f1_score))"
   ]
  }
 ],
 "metadata": {
  "kernelspec": {
   "display_name": "env-all",
   "language": "python",
   "name": "python3"
  },
  "language_info": {
   "codemirror_mode": {
    "name": "ipython",
    "version": 3
   },
   "file_extension": ".py",
   "mimetype": "text/x-python",
   "name": "python",
   "nbconvert_exporter": "python",
   "pygments_lexer": "ipython3",
   "version": "3.11.9"
  }
 },
 "nbformat": 4,
 "nbformat_minor": 2
}
